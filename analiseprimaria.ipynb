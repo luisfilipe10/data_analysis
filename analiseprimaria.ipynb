{
  "nbformat": 4,
  "nbformat_minor": 0,
  "metadata": {
    "colab": {
      "provenance": [],
      "authorship_tag": "ABX9TyOHu5fuTVTQmOREweKPDLtN",
      "include_colab_link": true
    },
    "kernelspec": {
      "name": "python3",
      "display_name": "Python 3"
    },
    "language_info": {
      "name": "python"
    }
  },
  "cells": [
    {
      "cell_type": "markdown",
      "metadata": {
        "id": "view-in-github",
        "colab_type": "text"
      },
      "source": [
        "<a href=\"https://colab.research.google.com/github/luisfilipe10/data_analysis/blob/main/analiseprimaria.ipynb\" target=\"_parent\"><img src=\"https://colab.research.google.com/assets/colab-badge.svg\" alt=\"Open In Colab\"/></a>"
      ]
    },
    {
      "cell_type": "code",
      "execution_count": 1,
      "metadata": {
        "id": "0loghpruy003"
      },
      "outputs": [],
      "source": [
        "import pandas as pd\n",
        "import seaborn as sns\n",
        "import matplotlib.pyplot as plt\n"
      ]
    },
    {
      "cell_type": "code",
      "source": [
        "registro = pd.read_excel('/content/registro_entradas.xlsx')"
      ],
      "metadata": {
        "id": "OMAxTKcd4p_S"
      },
      "execution_count": 12,
      "outputs": []
    },
    {
      "cell_type": "code",
      "source": [
        "print(registro)"
      ],
      "metadata": {
        "colab": {
          "base_uri": "https://localhost:8080/"
        },
        "id": "yU6OX15h_KCP",
        "outputId": "a2a484a4-87ac-4ecf-a29d-82afc7ab6789"
      },
      "execution_count": 14,
      "outputs": [
        {
          "output_type": "stream",
          "name": "stdout",
          "text": [
            "         DATA        MES       MANDANTE       VISITANTE        MERCADO  \\\n",
            "0  2024-02-16 2024-02-16   Hapoel Afula       Hapel Umm  PERSONALIZADA   \n",
            "1  2024-02-26 2024-02-26    Galatasaray     Antalyaspor  CANTOS LIMITE   \n",
            "2  2024-01-25 2024-01-25    Bournemouth        Man City  PERSONALIZADA   \n",
            "3  2024-01-26 2024-01-26         Tigres         Defensa  PERSONALIZADA   \n",
            "4  2024-01-27 2024-01-27        Arsenal       Newcastle  PERSONALIZADA   \n",
            "..        ...        ...            ...             ...            ...   \n",
            "57 2024-02-17 2024-02-17      Dobruddza  Spartak Pleven      (-0,5 HT)   \n",
            "58 2024-02-17 2024-02-17     Dunav Ruse  Sportist Svoge      (-0,5 HT)   \n",
            "59 2024-02-09 2024-02-09        Nicosia       Famagusta      (-0,5 HT)   \n",
            "60 2024-03-01 2024-03-01  Al Ahly Cairo   Young African         (+1,5)   \n",
            "61 2024-02-28 2024-02-28    Galatasaray      Ankarasukr              1   \n",
            "\n",
            "          CAMPEONATO   ODD  INVESTIMENTO SITUAÇÃO  RETORNO  LUCRO  \n",
            "0             ISRAEL  3.33             2    Green     6.66   4.66  \n",
            "1         TURQUIA 1ª  2.05             3    Green     6.15   3.15  \n",
            "2     PREMIER LEAGUE  2.02             3    Green     6.06   3.06  \n",
            "3   COPA DA LIGA ARG  2.30             2    Green     4.60   2.60  \n",
            "4     PREMIER LEAGUE  1.63             3    Green     4.89   1.89  \n",
            "..               ...   ...           ...      ...      ...    ...  \n",
            "57       BULGARIA 2ª  1.56             2      Red    -2.00  -2.00  \n",
            "58       BULGARIA 2ª  1.56             2      Red    -2.00  -2.00  \n",
            "59         CHIPRE 1º  1.50             2      Red    -2.00  -2.00  \n",
            "60               CAF  1.50             3      Red    -3.00  -3.00  \n",
            "61      COPA TURQUIA  1.53             6      Red    -6.00  -6.00  \n",
            "\n",
            "[62 rows x 11 columns]\n"
          ]
        }
      ]
    },
    {
      "cell_type": "code",
      "source": [
        "# prompt: excluir coluna MES\n",
        "\n",
        "registro = registro.drop('MES', axis=1)\n",
        "print(registro)\n"
      ],
      "metadata": {
        "colab": {
          "base_uri": "https://localhost:8080/"
        },
        "id": "UILyHG1C_zJ6",
        "outputId": "8668f399-f79b-4156-8cf3-4b5c24266bb0"
      },
      "execution_count": 19,
      "outputs": [
        {
          "output_type": "stream",
          "name": "stdout",
          "text": [
            "         DATA       MANDANTE       VISITANTE        MERCADO        CAMPEONATO  \\\n",
            "0  2024-02-16   Hapoel Afula       Hapel Umm  PERSONALIZADA            ISRAEL   \n",
            "1  2024-02-26    Galatasaray     Antalyaspor  CANTOS LIMITE        TURQUIA 1ª   \n",
            "2  2024-01-25    Bournemouth        Man City  PERSONALIZADA    PREMIER LEAGUE   \n",
            "3  2024-01-26         Tigres         Defensa  PERSONALIZADA  COPA DA LIGA ARG   \n",
            "4  2024-01-27        Arsenal       Newcastle  PERSONALIZADA    PREMIER LEAGUE   \n",
            "..        ...            ...             ...            ...               ...   \n",
            "57 2024-02-17      Dobruddza  Spartak Pleven      (-0,5 HT)       BULGARIA 2ª   \n",
            "58 2024-02-17     Dunav Ruse  Sportist Svoge      (-0,5 HT)       BULGARIA 2ª   \n",
            "59 2024-02-09        Nicosia       Famagusta      (-0,5 HT)         CHIPRE 1º   \n",
            "60 2024-03-01  Al Ahly Cairo   Young African         (+1,5)               CAF   \n",
            "61 2024-02-28    Galatasaray      Ankarasukr              1      COPA TURQUIA   \n",
            "\n",
            "     ODD  INVESTIMENTO SITUAÇÃO  RETORNO  LUCRO  \n",
            "0   3.33             2    Green     6.66   4.66  \n",
            "1   2.05             3    Green     6.15   3.15  \n",
            "2   2.02             3    Green     6.06   3.06  \n",
            "3   2.30             2    Green     4.60   2.60  \n",
            "4   1.63             3    Green     4.89   1.89  \n",
            "..   ...           ...      ...      ...    ...  \n",
            "57  1.56             2      Red    -2.00  -2.00  \n",
            "58  1.56             2      Red    -2.00  -2.00  \n",
            "59  1.50             2      Red    -2.00  -2.00  \n",
            "60  1.50             3      Red    -3.00  -3.00  \n",
            "61  1.53             6      Red    -6.00  -6.00  \n",
            "\n",
            "[62 rows x 10 columns]\n"
          ]
        }
      ]
    },
    {
      "cell_type": "code",
      "source": [
        "# prompt: criar uma nova coluna com base na coluna DATA, com apenas o mes\n",
        "\n",
        "import pandas as pd\n",
        "registro['Mes'] = pd.to_datetime(registro['DATA']).dt.month\n",
        "print(registro)\n"
      ],
      "metadata": {
        "colab": {
          "base_uri": "https://localhost:8080/"
        },
        "id": "x9pbfRgXAZ5z",
        "outputId": "8509c8dc-b34e-450e-f40a-8b5295956cc8"
      },
      "execution_count": 22,
      "outputs": [
        {
          "output_type": "stream",
          "name": "stdout",
          "text": [
            "         DATA       MANDANTE       VISITANTE        MERCADO        CAMPEONATO  \\\n",
            "0  2024-02-16   Hapoel Afula       Hapel Umm  PERSONALIZADA            ISRAEL   \n",
            "1  2024-02-26    Galatasaray     Antalyaspor  CANTOS LIMITE        TURQUIA 1ª   \n",
            "2  2024-01-25    Bournemouth        Man City  PERSONALIZADA    PREMIER LEAGUE   \n",
            "3  2024-01-26         Tigres         Defensa  PERSONALIZADA  COPA DA LIGA ARG   \n",
            "4  2024-01-27        Arsenal       Newcastle  PERSONALIZADA    PREMIER LEAGUE   \n",
            "..        ...            ...             ...            ...               ...   \n",
            "57 2024-02-17      Dobruddza  Spartak Pleven      (-0,5 HT)       BULGARIA 2ª   \n",
            "58 2024-02-17     Dunav Ruse  Sportist Svoge      (-0,5 HT)       BULGARIA 2ª   \n",
            "59 2024-02-09        Nicosia       Famagusta      (-0,5 HT)         CHIPRE 1º   \n",
            "60 2024-03-01  Al Ahly Cairo   Young African         (+1,5)               CAF   \n",
            "61 2024-02-28    Galatasaray      Ankarasukr              1      COPA TURQUIA   \n",
            "\n",
            "     ODD  INVESTIMENTO SITUAÇÃO  RETORNO  LUCRO  Mes  \n",
            "0   3.33             2    Green     6.66   4.66    2  \n",
            "1   2.05             3    Green     6.15   3.15    2  \n",
            "2   2.02             3    Green     6.06   3.06    1  \n",
            "3   2.30             2    Green     4.60   2.60    1  \n",
            "4   1.63             3    Green     4.89   1.89    1  \n",
            "..   ...           ...      ...      ...    ...  ...  \n",
            "57  1.56             2      Red    -2.00  -2.00    2  \n",
            "58  1.56             2      Red    -2.00  -2.00    2  \n",
            "59  1.50             2      Red    -2.00  -2.00    2  \n",
            "60  1.50             3      Red    -3.00  -3.00    3  \n",
            "61  1.53             6      Red    -6.00  -6.00    2  \n",
            "\n",
            "[62 rows x 11 columns]\n"
          ]
        }
      ]
    },
    {
      "cell_type": "code",
      "source": [
        "# prompt: mover essa coluna Mes para ser a segunda a ser mostrada\n",
        "\n",
        "cols = list(registro.columns)\n",
        "cols.insert(1, cols.pop(cols.index('Mes')))\n",
        "registro = registro[cols]\n",
        "print(registro)\n"
      ],
      "metadata": {
        "colab": {
          "base_uri": "https://localhost:8080/"
        },
        "id": "hvivyidOAmQ5",
        "outputId": "36914e78-4316-4cf3-cc05-61a50d543fb5"
      },
      "execution_count": 23,
      "outputs": [
        {
          "output_type": "stream",
          "name": "stdout",
          "text": [
            "         DATA  Mes       MANDANTE       VISITANTE        MERCADO  \\\n",
            "0  2024-02-16    2   Hapoel Afula       Hapel Umm  PERSONALIZADA   \n",
            "1  2024-02-26    2    Galatasaray     Antalyaspor  CANTOS LIMITE   \n",
            "2  2024-01-25    1    Bournemouth        Man City  PERSONALIZADA   \n",
            "3  2024-01-26    1         Tigres         Defensa  PERSONALIZADA   \n",
            "4  2024-01-27    1        Arsenal       Newcastle  PERSONALIZADA   \n",
            "..        ...  ...            ...             ...            ...   \n",
            "57 2024-02-17    2      Dobruddza  Spartak Pleven      (-0,5 HT)   \n",
            "58 2024-02-17    2     Dunav Ruse  Sportist Svoge      (-0,5 HT)   \n",
            "59 2024-02-09    2        Nicosia       Famagusta      (-0,5 HT)   \n",
            "60 2024-03-01    3  Al Ahly Cairo   Young African         (+1,5)   \n",
            "61 2024-02-28    2    Galatasaray      Ankarasukr              1   \n",
            "\n",
            "          CAMPEONATO   ODD  INVESTIMENTO SITUAÇÃO  RETORNO  LUCRO  \n",
            "0             ISRAEL  3.33             2    Green     6.66   4.66  \n",
            "1         TURQUIA 1ª  2.05             3    Green     6.15   3.15  \n",
            "2     PREMIER LEAGUE  2.02             3    Green     6.06   3.06  \n",
            "3   COPA DA LIGA ARG  2.30             2    Green     4.60   2.60  \n",
            "4     PREMIER LEAGUE  1.63             3    Green     4.89   1.89  \n",
            "..               ...   ...           ...      ...      ...    ...  \n",
            "57       BULGARIA 2ª  1.56             2      Red    -2.00  -2.00  \n",
            "58       BULGARIA 2ª  1.56             2      Red    -2.00  -2.00  \n",
            "59         CHIPRE 1º  1.50             2      Red    -2.00  -2.00  \n",
            "60               CAF  1.50             3      Red    -3.00  -3.00  \n",
            "61      COPA TURQUIA  1.53             6      Red    -6.00  -6.00  \n",
            "\n",
            "[62 rows x 11 columns]\n"
          ]
        }
      ]
    },
    {
      "cell_type": "code",
      "source": [
        "# prompt: renomear Mes para MES\n",
        "\n",
        "registro = registro.rename(columns={'Mes': 'MES'})\n",
        "print(registro)\n"
      ],
      "metadata": {
        "colab": {
          "base_uri": "https://localhost:8080/"
        },
        "id": "SWT6k7M9AxVK",
        "outputId": "63ad145d-2374-49ce-cbf2-c9adf901174d"
      },
      "execution_count": 24,
      "outputs": [
        {
          "output_type": "stream",
          "name": "stdout",
          "text": [
            "         DATA  MES       MANDANTE       VISITANTE        MERCADO  \\\n",
            "0  2024-02-16    2   Hapoel Afula       Hapel Umm  PERSONALIZADA   \n",
            "1  2024-02-26    2    Galatasaray     Antalyaspor  CANTOS LIMITE   \n",
            "2  2024-01-25    1    Bournemouth        Man City  PERSONALIZADA   \n",
            "3  2024-01-26    1         Tigres         Defensa  PERSONALIZADA   \n",
            "4  2024-01-27    1        Arsenal       Newcastle  PERSONALIZADA   \n",
            "..        ...  ...            ...             ...            ...   \n",
            "57 2024-02-17    2      Dobruddza  Spartak Pleven      (-0,5 HT)   \n",
            "58 2024-02-17    2     Dunav Ruse  Sportist Svoge      (-0,5 HT)   \n",
            "59 2024-02-09    2        Nicosia       Famagusta      (-0,5 HT)   \n",
            "60 2024-03-01    3  Al Ahly Cairo   Young African         (+1,5)   \n",
            "61 2024-02-28    2    Galatasaray      Ankarasukr              1   \n",
            "\n",
            "          CAMPEONATO   ODD  INVESTIMENTO SITUAÇÃO  RETORNO  LUCRO  \n",
            "0             ISRAEL  3.33             2    Green     6.66   4.66  \n",
            "1         TURQUIA 1ª  2.05             3    Green     6.15   3.15  \n",
            "2     PREMIER LEAGUE  2.02             3    Green     6.06   3.06  \n",
            "3   COPA DA LIGA ARG  2.30             2    Green     4.60   2.60  \n",
            "4     PREMIER LEAGUE  1.63             3    Green     4.89   1.89  \n",
            "..               ...   ...           ...      ...      ...    ...  \n",
            "57       BULGARIA 2ª  1.56             2      Red    -2.00  -2.00  \n",
            "58       BULGARIA 2ª  1.56             2      Red    -2.00  -2.00  \n",
            "59         CHIPRE 1º  1.50             2      Red    -2.00  -2.00  \n",
            "60               CAF  1.50             3      Red    -3.00  -3.00  \n",
            "61      COPA TURQUIA  1.53             6      Red    -6.00  -6.00  \n",
            "\n",
            "[62 rows x 11 columns]\n"
          ]
        }
      ]
    },
    {
      "cell_type": "code",
      "source": [
        "analise_mercado = registro.MERCADO.unique()\n",
        "analise_mercado"
      ],
      "metadata": {
        "colab": {
          "base_uri": "https://localhost:8080/"
        },
        "id": "3Sw39fmsCBBq",
        "outputId": "93018973-d894-4a0b-8196-f17c24e139a3"
      },
      "execution_count": 40,
      "outputs": [
        {
          "output_type": "execute_result",
          "data": {
            "text/plain": [
              "array(['PERSONALIZADA', 'CANTOS LIMITE', 1, '(-0,5 HT)', 'PERSONALIZADA ',\n",
              "       2, 'over limite', '(-1,5)', 'RACE 9', '(+1,5)'], dtype=object)"
            ]
          },
          "metadata": {},
          "execution_count": 40
        }
      ]
    },
    {
      "cell_type": "code",
      "source": [
        "registro.MERCADO.value_counts().plot(kind='bar')\n",
        "plt.show()"
      ],
      "metadata": {
        "colab": {
          "base_uri": "https://localhost:8080/",
          "height": 557
        },
        "id": "PX4FSxRzCZ48",
        "outputId": "bcf7ba60-6e81-431e-fb2c-51f40b033d4e"
      },
      "execution_count": 47,
      "outputs": [
        {
          "output_type": "display_data",
          "data": {
            "text/plain": [
              "<Figure size 640x480 with 1 Axes>"
            ],
            "image/png": "[encoded data removed]"
          },
          "metadata": {}
        }
      ]
    },
    {
      "cell_type": "code",
      "source": [],
      "metadata": {
        "colab": {
          "base_uri": "https://localhost:8080/",
          "height": 428
        },
        "id": "Kb46oxTjCuvW",
        "outputId": "9bbb3b2e-350f-4280-ab9c-37cb50140f11"
      },
      "execution_count": 46,
      "outputs": [
        {
          "output_type": "execute_result",
          "data": {
            "text/plain": [
              "<Axes: >"
            ]
          },
          "metadata": {},
          "execution_count": 46
        },
        {
          "output_type": "display_data",
          "data": {
            "text/plain": [
              "<Figure size 640x480 with 1 Axes>"
            ],
            "image/png": "[encoded data removed]"
          },
          "metadata": {}
        }
      ]
    },
    {
      "cell_type": "code",
      "source": [],
      "metadata": {
        "id": "6r_iU6PRDAXd"
      },
      "execution_count": null,
      "outputs": []
    }
  ]
}